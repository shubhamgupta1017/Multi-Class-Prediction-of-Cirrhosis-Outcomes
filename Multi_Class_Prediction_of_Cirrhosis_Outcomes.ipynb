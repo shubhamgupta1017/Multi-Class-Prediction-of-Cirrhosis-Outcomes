{
  "nbformat": 4,
  "nbformat_minor": 0,
  "metadata": {
    "colab": {
      "provenance": [],
      "authorship_tag": "ABX9TyPFWqozW3OG4f0EVgAZIlRF",
      "include_colab_link": true
    },
    "kernelspec": {
      "name": "python3",
      "display_name": "Python 3"
    },
    "language_info": {
      "name": "python"
    }
  },
  "cells": [
    {
      "cell_type": "markdown",
      "metadata": {
        "id": "view-in-github",
        "colab_type": "text"
      },
      "source": [
        "<a href=\"https://colab.research.google.com/github/shubhamgupta1017/Multi-Class-Prediction-of-Cirrhosis-Outcomes/blob/main/Multi_Class_Prediction_of_Cirrhosis_Outcomes.ipynb\" target=\"_parent\"><img src=\"https://colab.research.google.com/assets/colab-badge.svg\" alt=\"Open In Colab\"/></a>"
      ]
    },
    {
      "cell_type": "markdown",
      "source": [
        "Kaggle compedition\n",
        "\n",
        "```\n",
        "Multi-Class Prediction of Cirrhosis Outcomes\n",
        "```\n",
        "\n"
      ],
      "metadata": {
        "id": "mr_XyOgWK4Rb"
      }
    },
    {
      "cell_type": "markdown",
      "source": [
        "importing library"
      ],
      "metadata": {
        "id": "tTciUgAnLGeY"
      }
    },
    {
      "cell_type": "code",
      "execution_count": 629,
      "metadata": {
        "id": "saxQ-EPF89gJ"
      },
      "outputs": [],
      "source": [
        "import numpy as np\n",
        "import pandas as pd"
      ]
    },
    {
      "cell_type": "markdown",
      "source": [],
      "metadata": {
        "id": "BqSGLjeNLK2x"
      }
    },
    {
      "cell_type": "code",
      "source": [
        "df=pd.read_csv(\"/content/train (1).csv\")\n",
        "X_sub=pd.read_csv(\"/content/test (1).csv\")"
      ],
      "metadata": {
        "id": "GlRuoVnb9ycW"
      },
      "execution_count": 630,
      "outputs": []
    },
    {
      "cell_type": "code",
      "source": [
        "X=df.iloc[:,1:-1].values\n",
        "y=df.iloc[:,-1].values\n",
        "X_sub=X_sub.iloc[:,1:].values"
      ],
      "metadata": {
        "id": "qeWE3M5O0VMw"
      },
      "execution_count": 631,
      "outputs": []
    },
    {
      "cell_type": "markdown",
      "source": [
        "preproccesing data"
      ],
      "metadata": {
        "id": "S-R58FvFLMzk"
      }
    },
    {
      "cell_type": "code",
      "source": [
        "from sklearn.preprocessing import LabelEncoder\n",
        "le = LabelEncoder()\n",
        "to_transform=[1,3,4,5,6,7]\n",
        "for i in to_transform:\n",
        "  X_sub[:,i] = le.fit_transform(X_sub[:, i])\n",
        "  X[:,i] = le.fit_transform(X[:, i])"
      ],
      "metadata": {
        "id": "uAP3vPKoAr_N"
      },
      "execution_count": 632,
      "outputs": []
    },
    {
      "cell_type": "code",
      "source": [
        "X = X.astype('float32')\n",
        "X_sub=X_sub.astype('float32')"
      ],
      "metadata": {
        "id": "mqZJ1RyGBFS7"
      },
      "execution_count": 633,
      "outputs": []
    },
    {
      "cell_type": "code",
      "source": [
        "X[0]"
      ],
      "metadata": {
        "colab": {
          "base_uri": "https://localhost:8080/"
        },
        "id": "s5XQ2t8x2DJT",
        "outputId": "54650354-7b04-4ee9-8784-47acdbbda374"
      },
      "execution_count": 634,
      "outputs": [
        {
          "output_type": "execute_result",
          "data": {
            "text/plain": [
              "array([9.9900e+02, 0.0000e+00, 2.1532e+04, 1.0000e+00, 0.0000e+00,\n",
              "       0.0000e+00, 0.0000e+00, 0.0000e+00, 2.3000e+00, 3.1600e+02,\n",
              "       3.3500e+00, 1.7200e+02, 1.6010e+03, 1.7980e+02, 6.3000e+01,\n",
              "       3.9400e+02, 9.7000e+00, 3.0000e+00], dtype=float32)"
            ]
          },
          "metadata": {},
          "execution_count": 634
        }
      ]
    },
    {
      "cell_type": "code",
      "source": [
        "from sklearn.preprocessing import StandardScaler\n",
        "sc = StandardScaler()\n",
        "X = sc.fit_transform(X[:,1:])\n",
        "X_sub = sc.transform(X_sub[:,1:])"
      ],
      "metadata": {
        "id": "cWCDZ8WYLMh5"
      },
      "execution_count": 635,
      "outputs": []
    },
    {
      "cell_type": "code",
      "source": [
        "from sklearn.preprocessing import LabelEncoder\n",
        "label_encoder = LabelEncoder()\n",
        "y = label_encoder.fit_transform(y)"
      ],
      "metadata": {
        "id": "MlueX5M923Nr"
      },
      "execution_count": 636,
      "outputs": []
    },
    {
      "cell_type": "markdown",
      "source": [
        "PCA"
      ],
      "metadata": {
        "id": "3FXvkAb4LZib"
      }
    },
    {
      "cell_type": "code",
      "source": [
        "from sklearn.decomposition import PCA\n",
        "n_components = 16\n",
        "pca = PCA(n_components=n_components)\n",
        "X = pca.fit_transform(X)\n",
        "X_sub = pca.transform(X_sub)"
      ],
      "metadata": {
        "id": "w31FSPup5AZj"
      },
      "execution_count": 637,
      "outputs": []
    },
    {
      "cell_type": "markdown",
      "source": [
        "Model"
      ],
      "metadata": {
        "id": "WuGKqS8VLalh"
      }
    },
    {
      "cell_type": "code",
      "source": [
        "import xgboost as xgb\n",
        "from sklearn.model_selection import GridSearchCV, train_test_split"
      ],
      "metadata": {
        "id": "FKbQqzs72dOY"
      },
      "execution_count": 638,
      "outputs": []
    },
    {
      "cell_type": "code",
      "source": [
        "# @title fine tunning hyper prameter\n",
        "# xgb_model = xgb.XGBClassifier(objective='multi:softprob', num_class=3)\n",
        "# grid_search = GridSearchCV(estimator=xgb_model, param_grid=param_grid, scoring='neg_log_loss', cv=3)\n",
        "# grid_search.fit(X, y)\n",
        "# print(\"Best Parameters:\", grid_search.best_params_)\n",
        "# print(\"Best Score:\", grid_search.best_score_)\n",
        "# best_model = grid_search.best_estimator_\n",
        "# y_pred = best_model.predict(X)\n",
        "\n",
        "\n",
        "# @title fine tunning hyperparamter\n",
        "# param_grid = {\n",
        "#     'max_depth': [2],\n",
        "#     'learning_rate': [0.1],\n",
        "#      'n_estimators': [143],\n",
        "#     'subsample': [0.74],\n",
        "#     'colsample_bytree': [ 1.0],\n",
        "# }\n"
      ],
      "metadata": {
        "cellView": "form",
        "id": "9eNsMJPe9V3c"
      },
      "execution_count": 639,
      "outputs": []
    },
    {
      "cell_type": "code",
      "source": [
        "model = xgb.XGBClassifier(\n",
        "    max_depth=2,\n",
        "    learning_rate=0.1,\n",
        "    n_estimators=143,\n",
        "    subsample=0.74,\n",
        "    colsample_bytree=1.0,\n",
        "    objective='multi:softprob',  # Assuming a multi-class problem\n",
        "    num_class=3 # Specify the number of classes in your problem\n",
        ")\n",
        "\n",
        "model.fit(X, y)\n",
        "y_pred = model.predict(X)\n",
        "y_probabilities = model.predict_proba(X)\n",
        "print(y_probabilities[:5])"
      ],
      "metadata": {
        "colab": {
          "base_uri": "https://localhost:8080/"
        },
        "id": "BpSS1SKb2eGB",
        "outputId": "815d8755-b791-4a76-cb72-2487b8b40d15"
      },
      "execution_count": 640,
      "outputs": [
        {
          "output_type": "stream",
          "name": "stdout",
          "text": [
            "[[0.41304427 0.03572679 0.55122894]\n",
            " [0.8470031  0.0238042  0.12919264]\n",
            " [0.1020425  0.02063897 0.8773185 ]\n",
            " [0.9163221  0.01215103 0.07152684]\n",
            " [0.68503296 0.05528663 0.25968042]]\n"
          ]
        }
      ]
    },
    {
      "cell_type": "code",
      "source": [
        "logloss = log_loss(y, y_probabilities)\n",
        "print(f'Log Loss: {logloss:.4f}')#no need of confusion matrix"
      ],
      "metadata": {
        "colab": {
          "base_uri": "https://localhost:8080/"
        },
        "id": "0geKqQfbFdK8",
        "outputId": "e039850f-1b5e-4435-99cd-c2550b88e8c3"
      },
      "execution_count": 641,
      "outputs": [
        {
          "output_type": "stream",
          "name": "stdout",
          "text": [
            "Log Loss: 0.4724\n"
          ]
        }
      ]
    },
    {
      "cell_type": "code",
      "source": [
        "y_predic = model.predict_proba(X_sub)\n",
        "print(y_predic)"
      ],
      "metadata": {
        "colab": {
          "base_uri": "https://localhost:8080/"
        },
        "id": "sHy45q7m_xXe",
        "outputId": "15dbfd8d-4b26-4561-b3da-7b0b28ac6fa4"
      },
      "execution_count": 642,
      "outputs": [
        {
          "output_type": "stream",
          "name": "stdout",
          "text": [
            "[[0.7329399  0.03903151 0.2280286 ]\n",
            " [0.86991197 0.05696763 0.07312037]\n",
            " [0.187244   0.03683708 0.7759189 ]\n",
            " ...\n",
            " [0.7805555  0.0414056  0.17803895]\n",
            " [0.94985336 0.02680028 0.02334633]\n",
            " [0.50649345 0.01463132 0.47887528]]\n"
          ]
        }
      ]
    },
    {
      "cell_type": "markdown",
      "source": [
        "final exporting of result"
      ],
      "metadata": {
        "id": "ltgSYlWFNHJh"
      }
    },
    {
      "cell_type": "code",
      "source": [
        "sub=pd.read_csv(\"/content/test (1).csv\")\n",
        "output = np.column_stack((sub.iloc[:, 0], y_predic))\n",
        "output[:,0]=output[:,0].astype(int)\n",
        "output = pd.DataFrame(output, columns=['id', 'Status_C', 'Status_CL', 'Status_D'])\n",
        "print(output)"
      ],
      "metadata": {
        "colab": {
          "base_uri": "https://localhost:8080/"
        },
        "id": "KSB9YziTC9ZH",
        "outputId": "c3a7d62e-490e-430f-b234-e297ce7d08c0"
      },
      "execution_count": 643,
      "outputs": [
        {
          "output_type": "stream",
          "name": "stdout",
          "text": [
            "           id  Status_C  Status_CL  Status_D\n",
            "0      7905.0  0.732940   0.039032  0.228029\n",
            "1      7906.0  0.869912   0.056968  0.073120\n",
            "2      7907.0  0.187244   0.036837  0.775919\n",
            "3      7908.0  0.938368   0.010668  0.050964\n",
            "4      7909.0  0.667229   0.012963  0.319808\n",
            "...       ...       ...        ...       ...\n",
            "5266  13171.0  0.894828   0.030746  0.074426\n",
            "5267  13172.0  0.941649   0.007968  0.050384\n",
            "5268  13173.0  0.780555   0.041406  0.178039\n",
            "5269  13174.0  0.949853   0.026800  0.023346\n",
            "5270  13175.0  0.506493   0.014631  0.478875\n",
            "\n",
            "[5271 rows x 4 columns]\n"
          ]
        }
      ]
    },
    {
      "cell_type": "code",
      "source": [
        "output.to_csv('/content/output_file.csv', index=False)\n",
        "from google.colab import files\n",
        "\n",
        "files.download('/content/output_file.csv')"
      ],
      "metadata": {
        "colab": {
          "base_uri": "https://localhost:8080/",
          "height": 17
        },
        "id": "2oN4hoQAEGjZ",
        "outputId": "c6d1112e-145b-45ae-dc53-3ff29a386aed"
      },
      "execution_count": 644,
      "outputs": [
        {
          "output_type": "display_data",
          "data": {
            "text/plain": [
              "<IPython.core.display.Javascript object>"
            ],
            "application/javascript": [
              "\n",
              "    async function download(id, filename, size) {\n",
              "      if (!google.colab.kernel.accessAllowed) {\n",
              "        return;\n",
              "      }\n",
              "      const div = document.createElement('div');\n",
              "      const label = document.createElement('label');\n",
              "      label.textContent = `Downloading \"${filename}\": `;\n",
              "      div.appendChild(label);\n",
              "      const progress = document.createElement('progress');\n",
              "      progress.max = size;\n",
              "      div.appendChild(progress);\n",
              "      document.body.appendChild(div);\n",
              "\n",
              "      const buffers = [];\n",
              "      let downloaded = 0;\n",
              "\n",
              "      const channel = await google.colab.kernel.comms.open(id);\n",
              "      // Send a message to notify the kernel that we're ready.\n",
              "      channel.send({})\n",
              "\n",
              "      for await (const message of channel.messages) {\n",
              "        // Send a message to notify the kernel that we're ready.\n",
              "        channel.send({})\n",
              "        if (message.buffers) {\n",
              "          for (const buffer of message.buffers) {\n",
              "            buffers.push(buffer);\n",
              "            downloaded += buffer.byteLength;\n",
              "            progress.value = downloaded;\n",
              "          }\n",
              "        }\n",
              "      }\n",
              "      const blob = new Blob(buffers, {type: 'application/binary'});\n",
              "      const a = document.createElement('a');\n",
              "      a.href = window.URL.createObjectURL(blob);\n",
              "      a.download = filename;\n",
              "      div.appendChild(a);\n",
              "      a.click();\n",
              "      div.remove();\n",
              "    }\n",
              "  "
            ]
          },
          "metadata": {}
        },
        {
          "output_type": "display_data",
          "data": {
            "text/plain": [
              "<IPython.core.display.Javascript object>"
            ],
            "application/javascript": [
              "download(\"download_42af10bc-e75f-47e2-a57e-bf4952dc37ae\", \"output_file.csv\", 352356)"
            ]
          },
          "metadata": {}
        }
      ]
    }
  ]
}